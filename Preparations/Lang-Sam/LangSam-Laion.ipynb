{
 "cells": [
  {
   "cell_type": "code",
   "execution_count": 1,
   "metadata": {},
   "outputs": [
    {
     "name": "stderr",
     "output_type": "stream",
     "text": [
      "/home/amin/miniconda3/envs/lsa/lib/python3.10/site-packages/tqdm/auto.py:21: TqdmWarning: IProgress not found. Please update jupyter and ipywidgets. See https://ipywidgets.readthedocs.io/en/stable/user_install.html\n",
      "  from .autonotebook import tqdm as notebook_tqdm\n"
     ]
    }
   ],
   "source": [
    "from torchvision import datasets\n",
    "from torchvision import transforms\n",
    "import groundingdino.datasets.transforms as T\n",
    "import torchvision\n",
    "import os\n",
    "from torch.utils.data import DataLoader\n",
    "from lang_sam import LangSAM\n",
    "import torch\n",
    "import numpy as np\n",
    "import matplotlib.pyplot as plt\n",
    "import pandas as pd\n",
    "from torch.utils.data import Dataset\n",
    "import json\n",
    "from tqdm import tqdm\n",
    "import lang_sam.utils as utils\n",
    "from PIL import Image\n",
    "from segment_anything.utils.transforms import ResizeLongestSide"
   ]
  },
  {
   "cell_type": "code",
   "execution_count": 2,
   "metadata": {},
   "outputs": [
    {
     "name": "stderr",
     "output_type": "stream",
     "text": [
      "UserWarning: torch.meshgrid: in an upcoming release, it will be required to pass the indexing argument. (Triggered internally at /opt/conda/conda-bld/pytorch_1720538438429/work/aten/src/ATen/native/TensorShape.cpp:3609.)\n"
     ]
    },
    {
     "name": "stdout",
     "output_type": "stream",
     "text": [
      "final text_encoder_type: bert-base-uncased\n"
     ]
    },
    {
     "name": "stderr",
     "output_type": "stream",
     "text": [
      "FutureWarning: `clean_up_tokenization_spaces` was not set. It will be set to `True` by default. This behavior will be depracted in transformers v4.45, and will be then set to `False` by default. For more details check this issue: https://github.com/huggingface/transformers/issues/31884\n",
      "FutureWarning: You are using `torch.load` with `weights_only=False` (the current default value), which uses the default pickle module implicitly. It is possible to construct malicious pickle data which will execute arbitrary code during unpickling (See https://github.com/pytorch/pytorch/blob/main/SECURITY.md#untrusted-models for more details). In a future release, the default value for `weights_only` will be flipped to `True`. This limits the functions that could be executed during unpickling. Arbitrary objects will no longer be allowed to be loaded via this mode unless they are explicitly allowlisted by the user via `torch.serialization.add_safe_globals`. We recommend you start setting `weights_only=True` for any use case where you don't have full control of the loaded file. Please open an issue on GitHub for any issues related to this experimental feature.\n"
     ]
    },
    {
     "name": "stdout",
     "output_type": "stream",
     "text": [
      "Model loaded from /home/amin/.cache/huggingface/hub/models--ShilongLiu--GroundingDINO/snapshots/a94c9b567a2a374598f05c584e96798a170c56fb/groundingdino_swinb_cogcoor.pth \n",
      " => _IncompatibleKeys(missing_keys=[], unexpected_keys=['label_enc.weight', 'bert.embeddings.position_ids'])\n"
     ]
    }
   ],
   "source": [
    "model = LangSAM()"
   ]
  },
  {
   "cell_type": "code",
   "execution_count": 3,
   "metadata": {},
   "outputs": [],
   "source": [
    "H,W=600,800"
   ]
  },
  {
   "cell_type": "code",
   "execution_count": 4,
   "metadata": {},
   "outputs": [],
   "source": [
    "root=\"laion_subset\"\n",
    "files=sorted(os.listdir(root))\n",
    "with open(\"result_laion.json\",\"r\") as f:\n",
    "    json_dict=json.load(f)\n"
   ]
  },
  {
   "cell_type": "code",
   "execution_count": 5,
   "metadata": {},
   "outputs": [],
   "source": [
    "transform_sam = ResizeLongestSide(model.sam.model.image_encoder.img_size)"
   ]
  },
  {
   "cell_type": "code",
   "execution_count": 6,
   "metadata": {},
   "outputs": [
    {
     "name": "stderr",
     "output_type": "stream",
     "text": [
      "  1%|          | 22/3028 [00:35<1:22:38,  1.65s/it]UserWarning: Palette images with Transparency expressed in bytes should be converted to RGBA images\n",
      "100%|██████████| 3028/3028 [1:28:09<00:00,  1.75s/it]\n"
     ]
    }
   ],
   "source": [
    "new_dict={}\n",
    "with open(\"new_results_laion_199996.json\",\"r\") as f:\n",
    "    new_dict=json.load(f)\n",
    "\n",
    "files_count=len(files)\n",
    "batch_size=4\n",
    "save_idx=0\n",
    "with torch.no_grad():\n",
    "    for index in tqdm(range(200000,files_count,batch_size)):\n",
    "        save_idx+=1\n",
    "        image_list=[]\n",
    "        key_list=[]\n",
    "        if index+batch_size>files_count:\n",
    "            batch_size=(index+batch_size)-files_count\n",
    "        for i in range(batch_size):\n",
    "            img_idx=index+i\n",
    "            image_pil=Image.open(root+\"/\"+files[img_idx])\n",
    "            image_pil=image_pil.resize((W,H)).convert('RGB')\n",
    "            key=files[img_idx]\n",
    "            if key in json_dict.keys():\n",
    "                key_list.append(key)\n",
    "                image_list.append(transform_sam.apply_image(np.asarray(image_pil)))\n",
    "        input_image_torch_list=[]\n",
    "        for i in range(len(image_list)):\n",
    "            input_image = image_list[i]\n",
    "            input_image_torch = torch.as_tensor(input_image)\n",
    "            input_image_torch = input_image_torch.permute(2, 0, 1).contiguous()[None, :, :, :]\n",
    "            input_image_torch_list.append(input_image_torch)\n",
    "        input_image_torch=torch.cat(input_image_torch_list,dim=0)\n",
    "        model.sam.set_torch_image(input_image_torch.cuda(), [H,W])\n",
    "        for idx,key in enumerate(key_list):\n",
    "            new_dict[key]={}\n",
    "            new_dict[key][\"caption\"]=json_dict[key][\"caption\"]\n",
    "            new_dict[key][\"objects\"]=json_dict[key][\"objects\"]\n",
    "            new_dict[key][\"found_objects\"]={}\n",
    "            for object in json_dict[key][\"found_objects\"].keys():\n",
    "                box=torch.tensor(json_dict[key][\"found_objects\"][object][\"coords\"])\n",
    "                box_area=json_dict[key][\"found_objects\"][object][\"area\"]\n",
    "\n",
    "                transformed_boxes = model.sam.transform.apply_boxes_torch(box, [H,W])\n",
    "                sparse_embeddings, dense_embeddings = model.sam.model.prompt_encoder(\n",
    "                            points=None,\n",
    "                            boxes=transformed_boxes.cuda(),\n",
    "                            masks=None,\n",
    "                        )\n",
    "                low_res_masks, iou_predictions = model.sam.model.mask_decoder(\n",
    "                            image_embeddings=model.sam.features[idx][None],\n",
    "                            image_pe=model.sam.model.prompt_encoder.get_dense_pe(),\n",
    "                            sparse_prompt_embeddings=sparse_embeddings,\n",
    "                            dense_prompt_embeddings=dense_embeddings,\n",
    "                            multimask_output=False,\n",
    "                        )\n",
    "                masks = model.sam.model.postprocess_masks(low_res_masks, model.sam.input_size, model.sam.original_size)\n",
    "                masks = masks > model.sam.model.mask_threshold\n",
    "                masks = masks.squeeze(1).cpu()\n",
    "                #masks_list.append(masks)\n",
    "\n",
    "\n",
    "                #masks=model.predict_sam(image_pil,box)\n",
    "                #masks = masks.squeeze(1)\n",
    "                if len(masks)>0:\n",
    "                    mask_area=masks.sum()\n",
    "                    new_dict[key][\"found_objects\"][object]={\"coords\":box.tolist(),\"box_area\":box_area,\"mask_area\":mask_area.item()}\n",
    "        if save_idx%100000==0:\n",
    "            with open(f\"new_results_laion_second_{index}.json\",\"w\") as f:\n",
    "                r=json.dumps(new_dict)\n",
    "                f.write(r)\n",
    "with open(f\"new_results_laion_second_.json\",\"w\") as f:\n",
    "    r=json.dumps(new_dict)\n",
    "    f.write(r)"
   ]
  },
  {
   "cell_type": "code",
   "execution_count": null,
   "metadata": {},
   "outputs": [],
   "source": [
    "with open(f\"new_results_laion_{index}.json\",\"w\") as f:\n",
    "                r=json.dumps(new_dict)\n",
    "                f.write(r)"
   ]
  },
  {
   "cell_type": "code",
   "execution_count": 7,
   "metadata": {},
   "outputs": [],
   "source": [
    "with open(\"new_results_laion_second_.json\",\"r\") as f:\n",
    "    a=json.load(f)"
   ]
  },
  {
   "cell_type": "code",
   "execution_count": 9,
   "metadata": {},
   "outputs": [
    {
     "data": {
      "text/plain": [
       "201731"
      ]
     },
     "execution_count": 9,
     "metadata": {},
     "output_type": "execute_result"
    }
   ],
   "source": [
    "len(a.keys())"
   ]
  },
  {
   "cell_type": "code",
   "execution_count": 10,
   "metadata": {},
   "outputs": [
    {
     "data": {
      "text/plain": [
       "201731"
      ]
     },
     "execution_count": 10,
     "metadata": {},
     "output_type": "execute_result"
    }
   ],
   "source": [
    "len(new_dict.keys())"
   ]
  },
  {
   "cell_type": "code",
   "execution_count": null,
   "metadata": {},
   "outputs": [],
   "source": []
  }
 ],
 "metadata": {
  "kernelspec": {
   "display_name": "lsa",
   "language": "python",
   "name": "python3"
  },
  "language_info": {
   "codemirror_mode": {
    "name": "ipython",
    "version": 3
   },
   "file_extension": ".py",
   "mimetype": "text/x-python",
   "name": "python",
   "nbconvert_exporter": "python",
   "pygments_lexer": "ipython3",
   "version": "3.10.14"
  }
 },
 "nbformat": 4,
 "nbformat_minor": 2
}
